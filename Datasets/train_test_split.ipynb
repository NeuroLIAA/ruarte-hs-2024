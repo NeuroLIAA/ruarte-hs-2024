{
 "cells": [
  {
   "cell_type": "code",
   "execution_count": 4,
   "metadata": {},
   "outputs": [
    {
     "name": "stdout",
     "output_type": "stream",
     "text": [
      "Proportion of subjects with 'et_' prefix in training set: 0.62\n",
      "Proportion of subjects with 'et_' prefix in testing set: 0.50\n"
     ]
    },
    {
     "data": {
      "image/png": "[encoded data removed]",
      "text/plain": [
       "<Figure size 400x300 with 1 Axes>"
      ]
     },
     "metadata": {},
     "output_type": "display_data"
    }
   ],
   "source": [
    "from os import path, listdir\n",
    "import json\n",
    "from sklearn.model_selection import train_test_split\n",
    "import pandas as pd\n",
    "import matplotlib.pyplot as plt\n",
    "\n",
    "def compute_accuracy(json_file_path):\n",
    "    with open(json_file_path, 'r') as f:\n",
    "        data = json.load(f)\n",
    "    total_images = len([1 for img in data])\n",
    "    correct_images = sum(1 for img in data if data[img][\"target_found\"] == True)\n",
    "\n",
    "    results = correct_images / total_images\n",
    "\n",
    "    return results\n",
    "\n",
    "def subjects_accuracy(folder_path):\n",
    "    return {f: compute_accuracy(path.join(folder_path, f)) for f in listdir(folder_path) if f.endswith('.json')}\n",
    "\n",
    "# Initialize objects\n",
    "dataset_path = \"HSUBANOTT\"\n",
    "human_scanpaths_dir = path.abspath(f\"{dataset_path}/human_scanpaths\")\n",
    "accuracies_dict = subjects_accuracy(human_scanpaths_dir)\n",
    "\n",
    "# Create a DataFrame with subjects and accuracies\n",
    "df = pd.DataFrame(list(accuracies_dict.items()), columns=['Subject', 'Accuracy'])\n",
    "\n",
    "# Bin accuracies into discrete categories (5 bins in this example)\n",
    "df['Accuracy_Category'] = pd.qcut(df['Accuracy'], q=[0, 0.1,0.2,0.3,0.4,0.5,0.6,0.7,0.8, 0.9, 1], labels=False)\n",
    "\n",
    "# Extract subjects and their corresponding accuracy categories\n",
    "subjects = df['Subject'].tolist()\n",
    "accuracies = df['Accuracy'].tolist()\n",
    "accuracy_categories = df['Accuracy_Category'].tolist()\n",
    "\n",
    "# Split the data into training and testing sets while maintaining the same distribution of accuracy categories\n",
    "train_subjects, test_subjects, train_accuracies, test_accuracies, train_categories, test_categories = train_test_split(\n",
    "    subjects, accuracies, accuracy_categories, test_size=0.21, random_state=42, stratify=accuracy_categories\n",
    ")\n",
    "\n",
    "# Print the proportion of subjects with 'et_' prefix in training and testing sets\n",
    "train_et_prefix_proportion = sum(subject.startswith(\"et_\") for subject in train_subjects) / len(train_subjects)\n",
    "test_et_prefix_proportion = sum(subject.startswith(\"et_\") for subject in test_subjects) / len(test_subjects)\n",
    "\n",
    "print(f\"Proportion of subjects with 'et_' prefix in training set: {train_et_prefix_proportion:.2f}\")\n",
    "print(f\"Proportion of subjects with 'et_' prefix in testing set: {test_et_prefix_proportion:.2f}\")\n",
    "\n",
    "# Plot the normalized distribution of accuracies in the training and testing sets on the same figure with opacity\n",
    "plt.figure(figsize=(4, 3))\n",
    "\n",
    "plt.hist(train_accuracies, bins=5, color='blue', alpha=0.7, label='Training Set', edgecolor='black', density=True)\n",
    "plt.hist(test_accuracies, bins=5, color='orange', alpha=0.7, label='Validation Set', edgecolor='black', density=True)\n",
    "\n",
    "plt.title('Normalized Distribution of Accuracies')\n",
    "plt.xlabel('Accuracy')\n",
    "plt.ylabel('Density')\n",
    "plt.legend()\n",
    "\n",
    "plt.show()\n",
    "plt.close()\n",
    "\n",
    "# I want to create a folder for the training set and another for the testing set in the root folder\n",
    "# Both must have a folder within called human_scanpaths with the corresponding json files\n",
    "# the images and stimuli folders must be copied from the original dataset\n",
    "# the three jsons (trials_properties.json, dataset_info.json, absent_trials_propierties.json) must be copied from the original dataset folder to the new ones\n",
    "\n",
    "\n",
    "\n"
   ]
  },
  {
   "cell_type": "code",
   "execution_count": 4,
   "metadata": {},
   "outputs": [],
   "source": [
    "import shutil\n",
    "import os\n",
    "# Create folders for training and testing sets\n",
    "train_set_folder = path.join('train_set')\n",
    "test_set_folder = path.join('test_set')\n",
    "\n",
    "# Create human_scanpaths folder within each set\n",
    "train_human_scanpaths_folder = path.join(train_set_folder, 'human_scanpaths')\n",
    "test_human_scanpaths_folder = path.join(test_set_folder, 'human_scanpaths')\n",
    "\n",
    "# Create necessary folders within each set\n",
    "for folder in ['images', 'stimuli',\"human_scanpaths\"]:\n",
    "    train_folder_path = path.join(train_set_folder, folder)\n",
    "    test_folder_path = path.join(test_set_folder, folder)\n",
    "    os.makedirs(train_folder_path, exist_ok=True)\n",
    "    os.makedirs(test_folder_path, exist_ok=True)\n",
    "\n",
    "# Copy the necessary JSON files to each set\n",
    "json_files_to_copy = ['trials_properties.json', 'dataset_info.json', 'absent_trials_properties.json']\n",
    "\n",
    "for file_name in json_files_to_copy:\n",
    "    original_file_path = path.join(dataset_path, file_name)\n",
    "    train_file_path = path.join(train_set_folder, file_name)\n",
    "    test_file_path = path.join(test_set_folder, file_name)\n",
    "\n",
    "    shutil.copyfile(original_file_path, train_file_path)\n",
    "    shutil.copyfile(original_file_path, test_file_path)\n",
    "\n",
    "# Copy human_scanpaths JSON files to each set\n",
    "for subject in train_subjects:\n",
    "    original_subject_path = path.join(dataset_path,\"human_scanpaths\", subject)\n",
    "    train_subject_path = path.join(train_human_scanpaths_folder, subject)\n",
    "    shutil.copyfile(original_subject_path, train_subject_path)\n",
    "\n",
    "for subject in test_subjects:\n",
    "    original_subject_path = path.join(dataset_path,\"human_scanpaths\", subject)\n",
    "    test_subject_path = path.join(test_human_scanpaths_folder, subject)\n",
    "    shutil.copyfile(original_subject_path, test_subject_path)"
   ]
  }
 ],
 "metadata": {
  "kernelspec": {
   "display_name": "Python 3",
   "language": "python",
   "name": "python3"
  },
  "language_info": {
   "codemirror_mode": {
    "name": "ipython",
    "version": 3
   },
   "file_extension": ".py",
   "mimetype": "text/x-python",
   "name": "python",
   "nbconvert_exporter": "python",
   "pygments_lexer": "ipython3",
   "version": "3.10.5"
  },
  "orig_nbformat": 4
 },
 "nbformat": 4,
 "nbformat_minor": 2
}
